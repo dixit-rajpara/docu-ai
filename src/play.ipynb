{
 "cells": [
  {
   "cell_type": "code",
   "execution_count": 1,
   "metadata": {},
   "outputs": [],
   "source": [
    "import asyncio\n",
    "from pathlib import Path"
   ]
  },
  {
   "cell_type": "code",
   "execution_count": 2,
   "metadata": {},
   "outputs": [],
   "source": [
    "from scraper.interface import ScraperInterface\n",
    "from scraper.factory import ScraperFactory\n",
    "from scraper.utils import html_to_clean_markdown\n",
    "from scraper.discovery import get_site_urls\n",
    "from config.logger import setup_logging"
   ]
  },
  {
   "cell_type": "code",
   "execution_count": 3,
   "metadata": {},
   "outputs": [],
   "source": [
    "setup_logging()"
   ]
  },
  {
   "cell_type": "code",
   "execution_count": 4,
   "metadata": {},
   "outputs": [],
   "source": [
    "async def scrape_and_write(scraper_client, url, output_dir):\n",
    "    try:\n",
    "        result = await scraper_client.scrape_and_wait(url, config={})\n",
    "        markdown = html_to_clean_markdown(result[\"cleaned_html\"])\n",
    "\n",
    "        filename = url.replace(\"https://\", \"\").replace(\"/\", \"_\").strip(\"_\") + \".md\"\n",
    "        filepath = Path(output_dir) / filename\n",
    "        filepath.write_text(markdown)\n",
    "        print(f\"✅ Done: {url}\")\n",
    "    except Exception as e:\n",
    "        print(f\"❌ Failed to scrape {url}: {e}\")"
   ]
  },
  {
   "cell_type": "code",
   "execution_count": 5,
   "metadata": {},
   "outputs": [],
   "source": [
    "async def scrape_all(scraper_client, urls, output_dir=\"output\"):\n",
    "    Path(output_dir).mkdir(parents=True, exist_ok=True)\n",
    "\n",
    "    async with scraper_client:\n",
    "        tasks = [\n",
    "            asyncio.create_task(scrape_and_write(scraper_client, url, output_dir))\n",
    "            for url in urls\n",
    "        ]\n",
    "\n",
    "        for completed in asyncio.as_completed(tasks):\n",
    "            await completed  # This ensures each result is processed as it completes\n"
   ]
  },
  {
   "cell_type": "code",
   "execution_count": null,
   "metadata": {},
   "outputs": [],
   "source": [
    "sitemap = await get_site_urls(\"https://langchain-ai.github.io/langgraph/\", 2)"
   ]
  },
  {
   "cell_type": "code",
   "execution_count": 8,
   "metadata": {},
   "outputs": [],
   "source": [
    "scraper_client: ScraperInterface = ScraperFactory.create_scraper()"
   ]
  },
  {
   "cell_type": "code",
   "execution_count": null,
   "metadata": {},
   "outputs": [],
   "source": [
    "async with scraper_client:\n",
    "    await scrape_all(scraper_client, sitemap)"
   ]
  },
  {
   "cell_type": "code",
   "execution_count": null,
   "metadata": {},
   "outputs": [],
   "source": []
  }
 ],
 "metadata": {
  "kernelspec": {
   "display_name": ".venv",
   "language": "python",
   "name": "python3"
  },
  "language_info": {
   "codemirror_mode": {
    "name": "ipython",
    "version": 3
   },
   "file_extension": ".py",
   "mimetype": "text/x-python",
   "name": "python",
   "nbconvert_exporter": "python",
   "pygments_lexer": "ipython3",
   "version": "3.12.7"
  }
 },
 "nbformat": 4,
 "nbformat_minor": 2
}
